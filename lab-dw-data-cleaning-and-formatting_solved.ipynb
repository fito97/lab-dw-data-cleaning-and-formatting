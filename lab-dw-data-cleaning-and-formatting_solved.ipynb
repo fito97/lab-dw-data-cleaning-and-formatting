{
  "cells": [
    {
      "cell_type": "markdown",
      "id": "25d7736c-ba17-4aff-b6bb-66eba20fbf4e",
      "metadata": {
        "id": "25d7736c-ba17-4aff-b6bb-66eba20fbf4e"
      },
      "source": [
        "# Lab | Data Cleaning and Formatting"
      ]
    },
    {
      "cell_type": "markdown",
      "id": "d1973e9e-8be6-4039-b70e-d73ee0d94c99",
      "metadata": {
        "id": "d1973e9e-8be6-4039-b70e-d73ee0d94c99"
      },
      "source": [
        "In this lab, we will be working with the customer data from an insurance company, which can be found in the CSV file located at the following link: https://raw.githubusercontent.com/data-bootcamp-v4/data/main/file1.csv\n"
      ]
    },
    {
      "cell_type": "markdown",
      "id": "31b8a9e7-7db9-4604-991b-ef6771603e57",
      "metadata": {
        "id": "31b8a9e7-7db9-4604-991b-ef6771603e57"
      },
      "source": [
        "# Challenge 1: Data Cleaning and Formatting"
      ]
    },
    {
      "cell_type": "markdown",
      "id": "81553f19-9f2c-484b-8940-520aff884022",
      "metadata": {
        "id": "81553f19-9f2c-484b-8940-520aff884022"
      },
      "source": [
        "## Exercise 1: Cleaning Column Names"
      ]
    },
    {
      "cell_type": "markdown",
      "id": "34a929f4-1be4-4fa8-adda-42ffd920be90",
      "metadata": {
        "id": "34a929f4-1be4-4fa8-adda-42ffd920be90"
      },
      "source": [
        "To ensure consistency and ease of use, standardize the column names of the dataframe. Start by taking a first look at the dataframe and identifying any column names that need to be modified. Use appropriate naming conventions and make sure that column names are descriptive and informative.\n",
        "\n",
        "*Hint*:\n",
        "- *Column names should be in lower case*\n",
        "- *White spaces in column names should be replaced by `_`*\n",
        "- *`st` could be replaced for `state`*"
      ]
    },
    {
      "cell_type": "code",
      "execution_count": 2,
      "id": "5810735c-8056-4442-bbf2-dda38d3e284a",
      "metadata": {
        "id": "5810735c-8056-4442-bbf2-dda38d3e284a"
      },
      "outputs": [],
      "source": [
        "import pandas as pd\n",
        "insurance_df = pd.read_csv(\"https://raw.githubusercontent.com/data-bootcamp-v4/data/main/file1.csv\")\n",
        "insurance_df = insurance_df.rename(columns=lambda x: x.upper().replace(\" \",\"_\"))\n",
        "insurance_df = insurance_df.rename(columns={\"ST\":\"STATE\"})"
      ]
    },
    {
      "cell_type": "markdown",
      "id": "9cb501ec-36ff-4589-b872-6252bb150316",
      "metadata": {
        "id": "9cb501ec-36ff-4589-b872-6252bb150316"
      },
      "source": [
        "## Exercise 2: Cleaning invalid Values"
      ]
    },
    {
      "cell_type": "markdown",
      "id": "771fdcf3-8e20-4b06-9c24-3a93ba2b0909",
      "metadata": {
        "id": "771fdcf3-8e20-4b06-9c24-3a93ba2b0909"
      },
      "source": [
        "The dataset contains columns with inconsistent and incorrect values that could affect the accuracy of our analysis. Therefore, we need to clean these columns to ensure that they only contain valid data.\n",
        "\n",
        "Note that this exercise will focus only on cleaning inconsistent values and will not involve handling null values (NaN or None).\n",
        "\n",
        "*Hint*:\n",
        "- *Gender column contains various inconsistent values such as \"F\", \"M\", \"Femal\", \"Male\", \"female\", which need to be standardized, for example, to \"M\" and \"F\".*\n",
        "- *State abbreviations be can replaced with its full name, for example \"AZ\": \"Arizona\", \"Cali\": \"California\", \"WA\": \"Washington\"*\n",
        "- *In education, \"Bachelors\" could be replaced by \"Bachelor\"*\n",
        "- *In Customer Lifetime Value, delete the `%` character*\n",
        "- *In vehicle class, \"Sports Car\", \"Luxury SUV\" and \"Luxury Car\" could be replaced by \"Luxury\"*"
      ]
    },
    {
      "cell_type": "code",
      "execution_count": 2,
      "id": "3f8ee5cb-50ab-48af-8a9f-9a389804033c",
      "metadata": {
        "id": "3f8ee5cb-50ab-48af-8a9f-9a389804033c"
      },
      "outputs": [],
      "source": [
        "insurance_df.loc[\n",
        "    insurance_df[\"GENDER\"] == \"Male\",\n",
        "    \"GENDER\"\n",
        "] = \"M\"\n",
        "\n",
        "insurance_df.loc[\n",
        "    ((insurance_df[\"GENDER\"] == \"Femal\")|\n",
        "    (insurance_df[\"GENDER\"] == \"female\")),\n",
        "    \"GENDER\"\n",
        "] = \"F\"\n",
        "insurance_df.loc[\n",
        "    insurance_df[\"STATE\"]==\"AZ\",\n",
        "    \"STATE\"\n",
        "] = \"Arizona\"\n",
        "\n",
        "insurance_df.loc[\n",
        "    insurance_df[\"STATE\"]==\"Cali\",\n",
        "    \"STATE\"\n",
        "] = \"California\"\n",
        "\n",
        "insurance_df.loc[\n",
        "    insurance_df[\"STATE\"]==\"WA\",\n",
        "    \"STATE\"\n",
        "] = \"Washington\"\n",
        "insurance_df.loc[\n",
        "    insurance_df[\"EDUCATION\"] == \"Bachelors\",\n",
        "    \"EDUCATION\"\n",
        "]= \"Bachelor\"\n",
        "\n",
        "insurance_df[\"CUSTOMER_LIFETIME_VALUE\"] = insurance_df[\"CUSTOMER_LIFETIME_VALUE\"].str.replace(\"%\",\"\")\n",
        "insurance_df.loc[\n",
        "    (insurance_df[\"VEHICLE_CLASS\"] == \"Luxury SUV\") |\n",
        "    (insurance_df[\"VEHICLE_CLASS\"] == \"Luxury Car\") |\n",
        "    (insurance_df[\"VEHICLE_CLASS\"] == \"Sports Car\"),\n",
        "    \"VEHICLE_CLASS\"\n",
        "] = \"Luxury\"\n"
      ]
    },
    {
      "cell_type": "markdown",
      "id": "9901a495",
      "metadata": {},
      "source": [
        "In vehicle class, \"Sports Car\", \"Luxury SUV\" and \"Luxury Car\" could be replaced by \"Luxury\"*"
      ]
    },
    {
      "cell_type": "markdown",
      "id": "85ff78ce-0174-4890-9db3-8048b7d7d2d0",
      "metadata": {
        "id": "85ff78ce-0174-4890-9db3-8048b7d7d2d0"
      },
      "source": [
        "## Exercise 3: Formatting data types"
      ]
    },
    {
      "cell_type": "markdown",
      "id": "b91c2cf8-79a2-4baf-9f65-ff2fb22270bd",
      "metadata": {
        "id": "b91c2cf8-79a2-4baf-9f65-ff2fb22270bd"
      },
      "source": [
        "The data types of many columns in the dataset appear to be incorrect. This could impact the accuracy of our analysis. To ensure accurate analysis, we need to correct the data types of these columns. Please update the data types of the columns as appropriate."
      ]
    },
    {
      "cell_type": "markdown",
      "id": "43e5d853-ff9e-43b2-9d92-aef2f78764f3",
      "metadata": {
        "id": "43e5d853-ff9e-43b2-9d92-aef2f78764f3"
      },
      "source": [
        "It is important to note that this exercise does not involve handling null values (NaN or None)."
      ]
    },
    {
      "cell_type": "markdown",
      "id": "329ca691-9196-4419-8969-3596746237a1",
      "metadata": {
        "id": "329ca691-9196-4419-8969-3596746237a1"
      },
      "source": [
        "*Hint*:\n",
        "- *Customer lifetime value should be numeric*\n",
        "- *Number of open complaints has an incorrect format. Look at the different values it takes with `unique()` and take the middle value. As an example, 1/5/00 should be 5. Number of open complaints is a string - remember you can use `split()` to deal with it and take the number you need. Finally, since it should be numeric, cast the column to be in its proper type.*"
      ]
    },
    {
      "cell_type": "code",
      "execution_count": 3,
      "id": "eb8f5991-73e9-405f-bf1c-6b7c589379a9",
      "metadata": {
        "id": "eb8f5991-73e9-405f-bf1c-6b7c589379a9"
      },
      "outputs": [],
      "source": [
        "insurance_df.loc[\n",
        "insurance_df[\"CUSTOMER_LIFETIME_VALUE\"].isna(),\n",
        "\"CUSTOMER_LIFETIME_VALUE\"\n",
        "] = 0.00\n",
        "insurance_df[\"CUSTOMER_LIFETIME_VALUE\"] = pd.to_numeric(insurance_df[\"CUSTOMER_LIFETIME_VALUE\"])"
      ]
    },
    {
      "cell_type": "code",
      "execution_count": 4,
      "id": "1ce3ff5b",
      "metadata": {},
      "outputs": [],
      "source": [
        "insurance_df.loc[\n",
        "    insurance_df[\"NUMBER_OF_OPEN_COMPLAINTS\"] == \"1/0/00\",\n",
        "    \"NUMBER_OF_OPEN_COMPLAINTS\"\n",
        "] = 0\n",
        "\n",
        "insurance_df.loc[\n",
        "    insurance_df[\"NUMBER_OF_OPEN_COMPLAINTS\"] == \"1/1/00\",\n",
        "    \"NUMBER_OF_OPEN_COMPLAINTS\"\n",
        "] = 1\n",
        "insurance_df.loc[\n",
        "    insurance_df[\"NUMBER_OF_OPEN_COMPLAINTS\"] == \"1/2/00\",\n",
        "    \"NUMBER_OF_OPEN_COMPLAINTS\"\n",
        "] = 2\n",
        "insurance_df.loc[\n",
        "    insurance_df[\"NUMBER_OF_OPEN_COMPLAINTS\"] == \"1/3/00\",\n",
        "    \"NUMBER_OF_OPEN_COMPLAINTS\"\n",
        "] = 3\n",
        "insurance_df.loc[\n",
        "    insurance_df[\"NUMBER_OF_OPEN_COMPLAINTS\"] == \"1/4/00\",\n",
        "    \"NUMBER_OF_OPEN_COMPLAINTS\"\n",
        "] = 4\n",
        "insurance_df.loc[\n",
        "    insurance_df[\"NUMBER_OF_OPEN_COMPLAINTS\"] == \"1/5/00\",\n",
        "    \"NUMBER_OF_OPEN_COMPLAINTS\"\n",
        "] = 5\n",
        "\n",
        "\n",
        "insurance_df.loc[\n",
        "    insurance_df[\"NUMBER_OF_OPEN_COMPLAINTS\"].isna(),\n",
        "    \"NUMBER_OF_OPEN_COMPLAINTS\"\n",
        "]  = 0.00\n",
        "\n"
      ]
    },
    {
      "cell_type": "markdown",
      "id": "14c52e28-2d0c-4dd2-8bd5-3476e34fadc1",
      "metadata": {
        "id": "14c52e28-2d0c-4dd2-8bd5-3476e34fadc1"
      },
      "source": [
        "## Exercise 4: Dealing with Null values"
      ]
    },
    {
      "cell_type": "markdown",
      "id": "34b9a20f-7d32-4417-975e-1b4dfb0e16cd",
      "metadata": {
        "id": "34b9a20f-7d32-4417-975e-1b4dfb0e16cd"
      },
      "source": [
        "Identify any columns with null or missing values. Identify how many null values each column has. You can use the `isnull()` function in pandas to find columns with null values.\n",
        "\n",
        "Decide on a strategy for handling the null values. There are several options, including:\n",
        "\n",
        "- Drop the rows or columns with null values\n",
        "- Fill the null values with a specific value (such as the column mean or median for numerical variables, and mode for categorical variables)\n",
        "- Fill the null values with the previous or next value in the column\n",
        "- Fill the null values based on a more complex algorithm or model (note: we haven't covered this yet)\n",
        "\n",
        "Implement your chosen strategy to handle the null values. You can use the `fillna()` function in pandas to fill null values or `dropna()` function to drop null values.\n",
        "\n",
        "Verify that your strategy has successfully handled the null values. You can use the `isnull()` function again to check if there are still null values in the dataset.\n",
        "\n",
        "Remember to document your process and explain your reasoning for choosing a particular strategy for handling null values.\n",
        "\n",
        "After formatting data types, as a last step, convert all the numeric variables to integers."
      ]
    },
    {
      "cell_type": "code",
      "execution_count": 5,
      "id": "3df8d8b2",
      "metadata": {},
      "outputs": [],
      "source": [
        "insurance_df[\"Null_comments\"] = \"Not_Null\""
      ]
    },
    {
      "cell_type": "code",
      "execution_count": 6,
      "id": "f184fc35-7831-4836-a0a5-e7f99e01b40e",
      "metadata": {
        "id": "f184fc35-7831-4836-a0a5-e7f99e01b40e"
      },
      "outputs": [],
      "source": [
        "insurance_df[\"Check_Nulls\"] = insurance_df[\"CUSTOMER\"].astype(str\n",
        "                            )+\"_\"+insurance_df[\"STATE\"].astype(str\n",
        "                            )+\"_\"+insurance_df[\"GENDER\"].astype(str\n",
        "                            )+\"_\"+insurance_df[\"EDUCATION\"].astype(str\n",
        "                            )+\"_\"+insurance_df[\"CUSTOMER_LIFETIME_VALUE\"].astype(str\n",
        "                            )+\"_\"+insurance_df[\"INCOME\"].astype(str\n",
        "                            )+\"_\"+insurance_df[\"MONTHLY_PREMIUM_AUTO\"].astype(str\n",
        "                            )+\"_\"+insurance_df[\"NUMBER_OF_OPEN_COMPLAINTS\"].astype(str\n",
        "                            )+\"_\"+insurance_df[\"POLICY_TYPE\"].astype(str\n",
        "                            )+\"_\"+insurance_df[\"VEHICLE_CLASS\"].astype(str\n",
        "                            )+\"_\"+insurance_df[\"TOTAL_CLAIM_AMOUNT\"].astype(str)\n",
        "\n",
        "\n",
        "insurance_df = insurance_df.loc[insurance_df[\"Check_Nulls\"] != \"nan_nan_nan_nan_0.0_nan_nan_nan_nan_nan_nan\"]"
      ]
    },
    {
      "cell_type": "markdown",
      "id": "98416351-e999-4156-9834-9b00a311adfa",
      "metadata": {
        "id": "98416351-e999-4156-9834-9b00a311adfa"
      },
      "source": [
        "## Exercise 5: Dealing with duplicates"
      ]
    },
    {
      "cell_type": "markdown",
      "id": "ea0816a7-a18e-4d4c-b667-a8452a800bd1",
      "metadata": {
        "id": "ea0816a7-a18e-4d4c-b667-a8452a800bd1"
      },
      "source": [
        "Use the `.duplicated()` method to identify any duplicate rows in the dataframe.\n",
        "\n",
        "Decide on a strategy for handling the duplicates. Options include:\n",
        "- Dropping all duplicate rows\n",
        "- Keeping only the first occurrence of each duplicated row\n",
        "- Keeping only the last occurrence of each duplicated row\n",
        "- Dropping duplicates based on a subset of columns\n",
        "- Dropping duplicates based on a specific column\n",
        "\n",
        "Implement your chosen strategy using the `drop_duplicates()` function.\n",
        "\n",
        "Verify that your strategy has successfully handled the duplicates by checking for duplicates again using `.duplicated()`.\n",
        "\n",
        "Remember to document your process and explain your reasoning for choosing a particular strategy for handling duplicates.\n",
        "\n",
        "Save the cleaned dataset to a new CSV file.\n",
        "\n",
        "*Hint*: *after dropping duplicates, reset the index to ensure consistency*."
      ]
    },
    {
      "cell_type": "code",
      "execution_count": 7,
      "id": "1929362c-47ed-47cb-baca-358b78d401a0",
      "metadata": {
        "id": "1929362c-47ed-47cb-baca-358b78d401a0"
      },
      "outputs": [
        {
          "data": {
            "text/plain": [
              "0       False\n",
              "1       False\n",
              "2       False\n",
              "3       False\n",
              "4       False\n",
              "        ...  \n",
              "4003     True\n",
              "4004     True\n",
              "4005     True\n",
              "4006     True\n",
              "4007     True\n",
              "Length: 4008, dtype: bool"
            ]
          },
          "execution_count": 7,
          "metadata": {},
          "output_type": "execute_result"
        }
      ],
      "source": [
        "\n",
        "insurance_df.duplicated(subset=[\"Check_Nulls\"]).nunique()\n",
        "insurance_df.duplicated()"
      ]
    },
    {
      "cell_type": "markdown",
      "id": "60840701-4783-40e2-b4d8-55303f9100c9",
      "metadata": {
        "id": "60840701-4783-40e2-b4d8-55303f9100c9"
      },
      "source": [
        "# Bonus: Challenge 2: creating functions on a separate `py` file"
      ]
    },
    {
      "cell_type": "markdown",
      "id": "9d1adb3a-17cf-4899-8041-da21a4337fb4",
      "metadata": {
        "id": "9d1adb3a-17cf-4899-8041-da21a4337fb4"
      },
      "source": [
        "Put all the data cleaning and formatting steps into functions, and create a main function that performs all the cleaning and formatting.\n",
        "\n",
        "Write these functions in separate .py file(s). By putting these steps into functions, we can make the code more modular and easier to maintain."
      ]
    },
    {
      "cell_type": "markdown",
      "id": "0e170dc2-b62c-417a-8248-e63ed18a70c4",
      "metadata": {
        "id": "0e170dc2-b62c-417a-8248-e63ed18a70c4"
      },
      "source": [
        "*Hint: autoreload module is a utility module in Python that allows you to automatically reload modules in the current session when changes are made to the source code. This can be useful in situations where you are actively developing code and want to see the effects of changes you make without having to constantly restart the Python interpreter or Jupyter Notebook kernel.*"
      ]
    },
    {
      "cell_type": "code",
      "execution_count": 8,
      "id": "a52c6dfc-cd11-4d01-bda4-f719fa33e9a4",
      "metadata": {
        "id": "a52c6dfc-cd11-4d01-bda4-f719fa33e9a4"
      },
      "outputs": [],
      "source": [
        "def dataframe_cleaning (df_cleaning):\n",
        "    df_cleaning.loc[df_cleaning[\"GENDER\"] == \"Male\",\"GENDER\"] = \"M\"\n",
        "    df_cleaning.loc[((df_cleaning[\"GENDER\"] == \"Femal\")|(df_cleaning[\"GENDER\"] == \"female\")), \"GENDER\"] = \"F\"\n",
        "    df_cleaning.loc[df_cleaning[\"STATE\"]==\"AZ\",\"STATE\"] = \"Arizona\"\n",
        "    df_cleaning.loc[df_cleaning[\"STATE\"]==\"Cali\",\"STATE\"] = \"California\"\n",
        "    df_cleaning.loc[df_cleaning[\"STATE\"]==\"WA\",\"STATE\"] = \"Washington\"\n",
        "    df_cleaning.loc[df_cleaning[\"EDUCATION\"] == \"Bachelors\",\"EDUCATION\"] = \"Bachelor\"\n",
        "    df_cleaning[\"CUSTOMER_LIFETIME_VALUE\"] = df_cleaning[\"CUSTOMER_LIFETIME_VALUE\"].str.replace(\"%\",\"\")\n",
        "    df_cleaning.loc[((df_cleaning[\"VEHICLE_CLASS\"] == \"Luxury SUV\") | df_cleaning[\"VEHICLE_CLASS\"] == \"Luxury Car\") |(df_cleaning[\"VEHICLE_CLASS\"] == \"Sports Car\"),\"VEHICLE_CLASS\"] = \"Luxury\"\n",
        "    df_cleaning.loc[df_cleaning[\"CUSTOMER_LIFETIME_VALUE\"].isna(),\"CUSTOMER_LIFETIME_VALUE\"] = 0.00\n",
        "    df_cleaning[\"CUSTOMER_LIFETIME_VALUE\"] = pd.to_numeric(df_cleaning[\"CUSTOMER_LIFETIME_VALUE\"])\n",
        "\n",
        "    df_cleaning.loc[df_cleaning[\"NUMBER_OF_OPEN_COMPLAINTS\"] == \"1/0/00\",\"NUMBER_OF_OPEN_COMPLAINTS\"] = 0\n",
        "    df_cleaning.loc[df_cleaning[\"NUMBER_OF_OPEN_COMPLAINTS\"] == \"1/1/00\",\"NUMBER_OF_OPEN_COMPLAINTS\"] = 1\n",
        "    df_cleaning.loc[df_cleaning[\"NUMBER_OF_OPEN_COMPLAINTS\"] == \"1/2/00\",\"NUMBER_OF_OPEN_COMPLAINTS\"] = 2\n",
        "    df_cleaning.loc[df_cleaning[\"NUMBER_OF_OPEN_COMPLAINTS\"] == \"1/3/00\",\"NUMBER_OF_OPEN_COMPLAINTS\"] = 3\n",
        "    df_cleaning.loc[df_cleaning[\"NUMBER_OF_OPEN_COMPLAINTS\"] == \"1/4/00\",\"NUMBER_OF_OPEN_COMPLAINTS\"] = 4\n",
        "    df_cleaning.loc[df_cleaning[\"NUMBER_OF_OPEN_COMPLAINTS\"] == \"1/5/00\",\"NUMBER_OF_OPEN_COMPLAINTS\"] = 5\n",
        "    df_cleaning.loc[df_cleaning[\"NUMBER_OF_OPEN_COMPLAINTS\"].isna(), \"NUMBER_OF_OPEN_COMPLAINTS\"]  = 0.00\n",
        "\n",
        "\n",
        "\n",
        "    return df_cleaning"
      ]
    },
    {
      "cell_type": "code",
      "execution_count": 9,
      "id": "1f28de5a",
      "metadata": {},
      "outputs": [
        {
          "ename": "AttributeError",
          "evalue": "Can only use .str accessor with string values!",
          "output_type": "error",
          "traceback": [
            "\u001b[0;31m---------------------------------------------------------------------------\u001b[0m",
            "\u001b[0;31mAttributeError\u001b[0m                            Traceback (most recent call last)",
            "Cell \u001b[0;32mIn[9], line 1\u001b[0m\n\u001b[0;32m----> 1\u001b[0m dataframe_cleaning(insurance_df)\n",
            "Cell \u001b[0;32mIn[8], line 8\u001b[0m, in \u001b[0;36mdataframe_cleaning\u001b[0;34m(df_cleaning)\u001b[0m\n\u001b[1;32m      6\u001b[0m df_cleaning\u001b[38;5;241m.\u001b[39mloc[df_cleaning[\u001b[38;5;124m\"\u001b[39m\u001b[38;5;124mSTATE\u001b[39m\u001b[38;5;124m\"\u001b[39m]\u001b[38;5;241m==\u001b[39m\u001b[38;5;124m\"\u001b[39m\u001b[38;5;124mWA\u001b[39m\u001b[38;5;124m\"\u001b[39m,\u001b[38;5;124m\"\u001b[39m\u001b[38;5;124mSTATE\u001b[39m\u001b[38;5;124m\"\u001b[39m] \u001b[38;5;241m=\u001b[39m \u001b[38;5;124m\"\u001b[39m\u001b[38;5;124mWashington\u001b[39m\u001b[38;5;124m\"\u001b[39m\n\u001b[1;32m      7\u001b[0m df_cleaning\u001b[38;5;241m.\u001b[39mloc[df_cleaning[\u001b[38;5;124m\"\u001b[39m\u001b[38;5;124mEDUCATION\u001b[39m\u001b[38;5;124m\"\u001b[39m] \u001b[38;5;241m==\u001b[39m \u001b[38;5;124m\"\u001b[39m\u001b[38;5;124mBachelors\u001b[39m\u001b[38;5;124m\"\u001b[39m,\u001b[38;5;124m\"\u001b[39m\u001b[38;5;124mEDUCATION\u001b[39m\u001b[38;5;124m\"\u001b[39m] \u001b[38;5;241m=\u001b[39m \u001b[38;5;124m\"\u001b[39m\u001b[38;5;124mBachelor\u001b[39m\u001b[38;5;124m\"\u001b[39m\n\u001b[0;32m----> 8\u001b[0m df_cleaning[\u001b[38;5;124m\"\u001b[39m\u001b[38;5;124mCUSTOMER_LIFETIME_VALUE\u001b[39m\u001b[38;5;124m\"\u001b[39m] \u001b[38;5;241m=\u001b[39m df_cleaning[\u001b[38;5;124m\"\u001b[39m\u001b[38;5;124mCUSTOMER_LIFETIME_VALUE\u001b[39m\u001b[38;5;124m\"\u001b[39m]\u001b[38;5;241m.\u001b[39mstr\u001b[38;5;241m.\u001b[39mreplace(\u001b[38;5;124m\"\u001b[39m\u001b[38;5;124m%\u001b[39m\u001b[38;5;124m\"\u001b[39m,\u001b[38;5;124m\"\u001b[39m\u001b[38;5;124m\"\u001b[39m)\n\u001b[1;32m      9\u001b[0m df_cleaning\u001b[38;5;241m.\u001b[39mloc[((df_cleaning[\u001b[38;5;124m\"\u001b[39m\u001b[38;5;124mVEHICLE_CLASS\u001b[39m\u001b[38;5;124m\"\u001b[39m] \u001b[38;5;241m==\u001b[39m \u001b[38;5;124m\"\u001b[39m\u001b[38;5;124mLuxury SUV\u001b[39m\u001b[38;5;124m\"\u001b[39m) \u001b[38;5;241m|\u001b[39m df_cleaning[\u001b[38;5;124m\"\u001b[39m\u001b[38;5;124mVEHICLE_CLASS\u001b[39m\u001b[38;5;124m\"\u001b[39m] \u001b[38;5;241m==\u001b[39m \u001b[38;5;124m\"\u001b[39m\u001b[38;5;124mLuxury Car\u001b[39m\u001b[38;5;124m\"\u001b[39m) \u001b[38;5;241m|\u001b[39m(df_cleaning[\u001b[38;5;124m\"\u001b[39m\u001b[38;5;124mVEHICLE_CLASS\u001b[39m\u001b[38;5;124m\"\u001b[39m] \u001b[38;5;241m==\u001b[39m \u001b[38;5;124m\"\u001b[39m\u001b[38;5;124mSports Car\u001b[39m\u001b[38;5;124m\"\u001b[39m),\u001b[38;5;124m\"\u001b[39m\u001b[38;5;124mVEHICLE_CLASS\u001b[39m\u001b[38;5;124m\"\u001b[39m] \u001b[38;5;241m=\u001b[39m \u001b[38;5;124m\"\u001b[39m\u001b[38;5;124mLuxury\u001b[39m\u001b[38;5;124m\"\u001b[39m\n\u001b[1;32m     10\u001b[0m df_cleaning\u001b[38;5;241m.\u001b[39mloc[df_cleaning[\u001b[38;5;124m\"\u001b[39m\u001b[38;5;124mCUSTOMER_LIFETIME_VALUE\u001b[39m\u001b[38;5;124m\"\u001b[39m]\u001b[38;5;241m.\u001b[39misna(),\u001b[38;5;124m\"\u001b[39m\u001b[38;5;124mCUSTOMER_LIFETIME_VALUE\u001b[39m\u001b[38;5;124m\"\u001b[39m] \u001b[38;5;241m=\u001b[39m \u001b[38;5;241m0.00\u001b[39m\n",
            "File \u001b[0;32m~/anaconda3/lib/python3.11/site-packages/pandas/core/generic.py:5989\u001b[0m, in \u001b[0;36mNDFrame.__getattr__\u001b[0;34m(self, name)\u001b[0m\n\u001b[1;32m   5982\u001b[0m \u001b[38;5;28;01mif\u001b[39;00m (\n\u001b[1;32m   5983\u001b[0m     name \u001b[38;5;129;01mnot\u001b[39;00m \u001b[38;5;129;01min\u001b[39;00m \u001b[38;5;28mself\u001b[39m\u001b[38;5;241m.\u001b[39m_internal_names_set\n\u001b[1;32m   5984\u001b[0m     \u001b[38;5;129;01mand\u001b[39;00m name \u001b[38;5;129;01mnot\u001b[39;00m \u001b[38;5;129;01min\u001b[39;00m \u001b[38;5;28mself\u001b[39m\u001b[38;5;241m.\u001b[39m_metadata\n\u001b[1;32m   5985\u001b[0m     \u001b[38;5;129;01mand\u001b[39;00m name \u001b[38;5;129;01mnot\u001b[39;00m \u001b[38;5;129;01min\u001b[39;00m \u001b[38;5;28mself\u001b[39m\u001b[38;5;241m.\u001b[39m_accessors\n\u001b[1;32m   5986\u001b[0m     \u001b[38;5;129;01mand\u001b[39;00m \u001b[38;5;28mself\u001b[39m\u001b[38;5;241m.\u001b[39m_info_axis\u001b[38;5;241m.\u001b[39m_can_hold_identifiers_and_holds_name(name)\n\u001b[1;32m   5987\u001b[0m ):\n\u001b[1;32m   5988\u001b[0m     \u001b[38;5;28;01mreturn\u001b[39;00m \u001b[38;5;28mself\u001b[39m[name]\n\u001b[0;32m-> 5989\u001b[0m \u001b[38;5;28;01mreturn\u001b[39;00m \u001b[38;5;28mobject\u001b[39m\u001b[38;5;241m.\u001b[39m\u001b[38;5;21m__getattribute__\u001b[39m(\u001b[38;5;28mself\u001b[39m, name)\n",
            "File \u001b[0;32m~/anaconda3/lib/python3.11/site-packages/pandas/core/accessor.py:224\u001b[0m, in \u001b[0;36mCachedAccessor.__get__\u001b[0;34m(self, obj, cls)\u001b[0m\n\u001b[1;32m    221\u001b[0m \u001b[38;5;28;01mif\u001b[39;00m obj \u001b[38;5;129;01mis\u001b[39;00m \u001b[38;5;28;01mNone\u001b[39;00m:\n\u001b[1;32m    222\u001b[0m     \u001b[38;5;66;03m# we're accessing the attribute of the class, i.e., Dataset.geo\u001b[39;00m\n\u001b[1;32m    223\u001b[0m     \u001b[38;5;28;01mreturn\u001b[39;00m \u001b[38;5;28mself\u001b[39m\u001b[38;5;241m.\u001b[39m_accessor\n\u001b[0;32m--> 224\u001b[0m accessor_obj \u001b[38;5;241m=\u001b[39m \u001b[38;5;28mself\u001b[39m\u001b[38;5;241m.\u001b[39m_accessor(obj)\n\u001b[1;32m    225\u001b[0m \u001b[38;5;66;03m# Replace the property with the accessor object. Inspired by:\u001b[39;00m\n\u001b[1;32m    226\u001b[0m \u001b[38;5;66;03m# https://www.pydanny.com/cached-property.html\u001b[39;00m\n\u001b[1;32m    227\u001b[0m \u001b[38;5;66;03m# We need to use object.__setattr__ because we overwrite __setattr__ on\u001b[39;00m\n\u001b[1;32m    228\u001b[0m \u001b[38;5;66;03m# NDFrame\u001b[39;00m\n\u001b[1;32m    229\u001b[0m \u001b[38;5;28mobject\u001b[39m\u001b[38;5;241m.\u001b[39m\u001b[38;5;21m__setattr__\u001b[39m(obj, \u001b[38;5;28mself\u001b[39m\u001b[38;5;241m.\u001b[39m_name, accessor_obj)\n",
            "File \u001b[0;32m~/anaconda3/lib/python3.11/site-packages/pandas/core/strings/accessor.py:181\u001b[0m, in \u001b[0;36mStringMethods.__init__\u001b[0;34m(self, data)\u001b[0m\n\u001b[1;32m    178\u001b[0m \u001b[38;5;28;01mdef\u001b[39;00m \u001b[38;5;21m__init__\u001b[39m(\u001b[38;5;28mself\u001b[39m, data) \u001b[38;5;241m-\u001b[39m\u001b[38;5;241m>\u001b[39m \u001b[38;5;28;01mNone\u001b[39;00m:\n\u001b[1;32m    179\u001b[0m     \u001b[38;5;28;01mfrom\u001b[39;00m \u001b[38;5;21;01mpandas\u001b[39;00m\u001b[38;5;21;01m.\u001b[39;00m\u001b[38;5;21;01mcore\u001b[39;00m\u001b[38;5;21;01m.\u001b[39;00m\u001b[38;5;21;01marrays\u001b[39;00m\u001b[38;5;21;01m.\u001b[39;00m\u001b[38;5;21;01mstring_\u001b[39;00m \u001b[38;5;28;01mimport\u001b[39;00m StringDtype\n\u001b[0;32m--> 181\u001b[0m     \u001b[38;5;28mself\u001b[39m\u001b[38;5;241m.\u001b[39m_inferred_dtype \u001b[38;5;241m=\u001b[39m \u001b[38;5;28mself\u001b[39m\u001b[38;5;241m.\u001b[39m_validate(data)\n\u001b[1;32m    182\u001b[0m     \u001b[38;5;28mself\u001b[39m\u001b[38;5;241m.\u001b[39m_is_categorical \u001b[38;5;241m=\u001b[39m is_categorical_dtype(data\u001b[38;5;241m.\u001b[39mdtype)\n\u001b[1;32m    183\u001b[0m     \u001b[38;5;28mself\u001b[39m\u001b[38;5;241m.\u001b[39m_is_string \u001b[38;5;241m=\u001b[39m \u001b[38;5;28misinstance\u001b[39m(data\u001b[38;5;241m.\u001b[39mdtype, StringDtype)\n",
            "File \u001b[0;32m~/anaconda3/lib/python3.11/site-packages/pandas/core/strings/accessor.py:235\u001b[0m, in \u001b[0;36mStringMethods._validate\u001b[0;34m(data)\u001b[0m\n\u001b[1;32m    232\u001b[0m inferred_dtype \u001b[38;5;241m=\u001b[39m lib\u001b[38;5;241m.\u001b[39minfer_dtype(values, skipna\u001b[38;5;241m=\u001b[39m\u001b[38;5;28;01mTrue\u001b[39;00m)\n\u001b[1;32m    234\u001b[0m \u001b[38;5;28;01mif\u001b[39;00m inferred_dtype \u001b[38;5;129;01mnot\u001b[39;00m \u001b[38;5;129;01min\u001b[39;00m allowed_types:\n\u001b[0;32m--> 235\u001b[0m     \u001b[38;5;28;01mraise\u001b[39;00m \u001b[38;5;167;01mAttributeError\u001b[39;00m(\u001b[38;5;124m\"\u001b[39m\u001b[38;5;124mCan only use .str accessor with string values!\u001b[39m\u001b[38;5;124m\"\u001b[39m)\n\u001b[1;32m    236\u001b[0m \u001b[38;5;28;01mreturn\u001b[39;00m inferred_dtype\n",
            "\u001b[0;31mAttributeError\u001b[0m: Can only use .str accessor with string values!"
          ]
        }
      ],
      "source": [
        "dataframe_cleaning(insurance_df)"
      ]
    },
    {
      "cell_type": "markdown",
      "id": "80f846bb-3f5e-4ca2-96c0-900728daca5a",
      "metadata": {
        "id": "80f846bb-3f5e-4ca2-96c0-900728daca5a",
        "tags": []
      },
      "source": [
        "# Bonus: Challenge 3: Analyzing Clean and Formated Data"
      ]
    },
    {
      "cell_type": "markdown",
      "id": "9021630e-cc90-446c-b5bd-264d6c864207",
      "metadata": {
        "id": "9021630e-cc90-446c-b5bd-264d6c864207"
      },
      "source": [
        "You have been tasked with analyzing the data to identify potential areas for improving customer retention and profitability. Your goal is to identify customers with a high policy claim amount and a low customer lifetime value.\n",
        "\n",
        "In the Pandas Lab, we only looked at high policy claim amounts because we couldn't look into low customer lifetime values. If we had tried to work with that column, we wouldn't have been able to because customer lifetime value wasn't clean and in its proper format. So after cleaning and formatting the data, let's get some more interesting insights!\n",
        "\n",
        "Instructions:\n",
        "\n",
        "- Review the statistics again for total claim amount and customer lifetime value to gain an understanding of the data.\n",
        "- To identify potential areas for improving customer retention and profitability, we want to focus on customers with a high policy claim amount and a low customer lifetime value. Consider customers with a high policy claim amount to be those in the top 25% of the total claim amount, and clients with a low customer lifetime value to be those in the bottom 25% of the customer lifetime value. Create a pandas DataFrame object that contains information about customers with a policy claim amount greater than the 75th percentile and a customer lifetime value in the bottom 25th percentile.\n",
        "- Use DataFrame methods to calculate summary statistics about the high policy claim amount and low customer lifetime value data. To do so, select both columns of the dataframe simultaneously and pass it to the `.describe()` method. This will give you descriptive statistics, such as mean, median, standard deviation, minimum and maximum values for both columns at the same time, allowing you to compare and analyze their characteristics."
      ]
    },
    {
      "cell_type": "code",
      "execution_count": 16,
      "id": "211e82b5-461a-4d6f-8a23-4deccb84173c",
      "metadata": {
        "id": "211e82b5-461a-4d6f-8a23-4deccb84173c"
      },
      "outputs": [
        {
          "data": {
            "text/plain": [
              "200435.07"
            ]
          },
          "execution_count": 16,
          "metadata": {},
          "output_type": "execute_result"
        }
      ],
      "source": [
        "max_claim = round(max(insurance_df[\"TOTAL_CLAIM_AMOUNT\"]),2)\n",
        "min_lifteime = min(insurance_df.loc[insurance_df[\"CUSTOMER_LIFETIME_VALUE\"]!=0,\"CUSTOMER_LIFETIME_VALUE\"])\n"
      ]
    },
    {
      "cell_type": "code",
      "execution_count": 21,
      "id": "28d8708e",
      "metadata": {},
      "outputs": [
        {
          "data": {
            "text/html": [
              "<div>\n",
              "<style scoped>\n",
              "    .dataframe tbody tr th:only-of-type {\n",
              "        vertical-align: middle;\n",
              "    }\n",
              "\n",
              "    .dataframe tbody tr th {\n",
              "        vertical-align: top;\n",
              "    }\n",
              "\n",
              "    .dataframe thead th {\n",
              "        text-align: right;\n",
              "    }\n",
              "</style>\n",
              "<table border=\"1\" class=\"dataframe\">\n",
              "  <thead>\n",
              "    <tr style=\"text-align: right;\">\n",
              "      <th></th>\n",
              "      <th>TOTAL_CLAIM_AMOUNT</th>\n",
              "      <th>CUSTOMER_LIFETIME_VALUE</th>\n",
              "    </tr>\n",
              "  </thead>\n",
              "  <tbody>\n",
              "    <tr>\n",
              "      <th>count</th>\n",
              "      <td>1071.00</td>\n",
              "      <td>4008.00</td>\n",
              "    </tr>\n",
              "    <tr>\n",
              "      <th>mean</th>\n",
              "      <td>404.99</td>\n",
              "      <td>211492.31</td>\n",
              "    </tr>\n",
              "    <tr>\n",
              "      <th>std</th>\n",
              "      <td>293.03</td>\n",
              "      <td>483135.45</td>\n",
              "    </tr>\n",
              "    <tr>\n",
              "      <th>min</th>\n",
              "      <td>0.38</td>\n",
              "      <td>0.00</td>\n",
              "    </tr>\n",
              "    <tr>\n",
              "      <th>25%</th>\n",
              "      <td>202.16</td>\n",
              "      <td>0.00</td>\n",
              "    </tr>\n",
              "    <tr>\n",
              "      <th>50%</th>\n",
              "      <td>354.73</td>\n",
              "      <td>0.00</td>\n",
              "    </tr>\n",
              "    <tr>\n",
              "      <th>75%</th>\n",
              "      <td>532.80</td>\n",
              "      <td>252336.83</td>\n",
              "    </tr>\n",
              "    <tr>\n",
              "      <th>max</th>\n",
              "      <td>2893.24</td>\n",
              "      <td>5816655.35</td>\n",
              "    </tr>\n",
              "  </tbody>\n",
              "</table>\n",
              "</div>"
            ],
            "text/plain": [
              "       TOTAL_CLAIM_AMOUNT  CUSTOMER_LIFETIME_VALUE\n",
              "count             1071.00                  4008.00\n",
              "mean               404.99                211492.31\n",
              "std                293.03                483135.45\n",
              "min                  0.38                     0.00\n",
              "25%                202.16                     0.00\n",
              "50%                354.73                     0.00\n",
              "75%                532.80                252336.83\n",
              "max               2893.24               5816655.35"
            ]
          },
          "execution_count": 21,
          "metadata": {},
          "output_type": "execute_result"
        }
      ],
      "source": [
        "insurance_df[[\"TOTAL_CLAIM_AMOUNT\",\"CUSTOMER_LIFETIME_VALUE\"]].describe().round(2)"
      ]
    },
    {
      "cell_type": "code",
      "execution_count": 35,
      "id": "5e723133",
      "metadata": {},
      "outputs": [
        {
          "data": {
            "text/html": [
              "<div>\n",
              "<style scoped>\n",
              "    .dataframe tbody tr th:only-of-type {\n",
              "        vertical-align: middle;\n",
              "    }\n",
              "\n",
              "    .dataframe tbody tr th {\n",
              "        vertical-align: top;\n",
              "    }\n",
              "\n",
              "    .dataframe thead th {\n",
              "        text-align: right;\n",
              "    }\n",
              "</style>\n",
              "<table border=\"1\" class=\"dataframe\">\n",
              "  <thead>\n",
              "    <tr style=\"text-align: right;\">\n",
              "      <th></th>\n",
              "      <th>CUSTOMER</th>\n",
              "      <th>STATE</th>\n",
              "      <th>GENDER</th>\n",
              "      <th>EDUCATION</th>\n",
              "      <th>CUSTOMER_LIFETIME_VALUE</th>\n",
              "      <th>INCOME</th>\n",
              "      <th>MONTHLY_PREMIUM_AUTO</th>\n",
              "      <th>NUMBER_OF_OPEN_COMPLAINTS</th>\n",
              "      <th>POLICY_TYPE</th>\n",
              "      <th>VEHICLE_CLASS</th>\n",
              "      <th>TOTAL_CLAIM_AMOUNT</th>\n",
              "      <th>Null_comments</th>\n",
              "      <th>Check_Nulls</th>\n",
              "    </tr>\n",
              "  </thead>\n",
              "  <tbody>\n",
              "    <tr>\n",
              "      <th>888</th>\n",
              "      <td>BZ65376</td>\n",
              "      <td>Arizona</td>\n",
              "      <td>M</td>\n",
              "      <td>Bachelor</td>\n",
              "      <td>858127.87</td>\n",
              "      <td>27689.0</td>\n",
              "      <td>239.0</td>\n",
              "      <td>2</td>\n",
              "      <td>Personal Auto</td>\n",
              "      <td>Luxury</td>\n",
              "      <td>2893.239678</td>\n",
              "      <td>Not_Null</td>\n",
              "      <td>BZ65376_Arizona_M_Bachelor_858127.87_27689.0_2...</td>\n",
              "    </tr>\n",
              "  </tbody>\n",
              "</table>\n",
              "</div>"
            ],
            "text/plain": [
              "    CUSTOMER    STATE GENDER EDUCATION  CUSTOMER_LIFETIME_VALUE   INCOME  \\\n",
              "888  BZ65376  Arizona      M  Bachelor                858127.87  27689.0   \n",
              "\n",
              "     MONTHLY_PREMIUM_AUTO NUMBER_OF_OPEN_COMPLAINTS    POLICY_TYPE  \\\n",
              "888                 239.0                         2  Personal Auto   \n",
              "\n",
              "    VEHICLE_CLASS  TOTAL_CLAIM_AMOUNT Null_comments  \\\n",
              "888        Luxury         2893.239678      Not_Null   \n",
              "\n",
              "                                           Check_Nulls  \n",
              "888  BZ65376_Arizona_M_Bachelor_858127.87_27689.0_2...  "
            ]
          },
          "execution_count": 35,
          "metadata": {},
          "output_type": "execute_result"
        }
      ],
      "source": [
        "quantile_75 = insurance_df[\"TOTAL_CLAIM_AMOUNT\"].quantile(0.75)\n",
        "quantile_25 = insurance_df[\"CUSTOMER_LIFETIME_VALUE\"].quantile(0.25)\n",
        "\n",
        "\n",
        "insurance_df.loc[\n",
        "   ((insurance_df[\"TOTAL_CLAIM_AMOUNT\"]>quantile_75) &\n",
        "    (insurance_df[\"CUSTOMER_LIFETIME_VALUE\"]>quantile_25))\n",
        "    ].sort_values(by = [\"TOTAL_CLAIM_AMOUNT\",\"CUSTOMER_LIFETIME_VALUE\"], ascending=[False, True]).head(1)"
      ]
    }
  ],
  "metadata": {
    "colab": {
      "provenance": []
    },
    "kernelspec": {
      "display_name": "base",
      "language": "python",
      "name": "python3"
    },
    "language_info": {
      "codemirror_mode": {
        "name": "ipython",
        "version": 3
      },
      "file_extension": ".py",
      "mimetype": "text/x-python",
      "name": "python",
      "nbconvert_exporter": "python",
      "pygments_lexer": "ipython3",
      "version": "3.11.5"
    }
  },
  "nbformat": 4,
  "nbformat_minor": 5
}
